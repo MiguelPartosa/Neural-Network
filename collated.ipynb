{
 "cells": [
  {
   "cell_type": "markdown",
   "metadata": {},
   "source": [
    "# The Entire Project in One Notebook! \n",
    "### What is this?\n",
    "I decided to move all the files into one jupyter notebook. I figured that this would be the best use-case for this entire project and I would learn more about notebooks. Still, I will be completing this project with individual python files and imports, while maintaining everything in this notebook.\n",
    "\n",
    "> ⚠️ I will be **borrowing** a lot from [Mr. Victor Zhou's blog post](https://victorzhou.com/blog/intro-to-neural-networks/) with the notes I put down in markdown "
   ]
  },
  {
   "cell_type": "code",
   "execution_count": 1,
   "metadata": {},
   "outputs": [],
   "source": [
    "import numpy as np "
   ]
  },
  {
   "cell_type": "markdown",
   "metadata": {},
   "source": [
    "## The Neuron and Network\n",
    "> I'll be using node and neuron interchangably\n",
    "#### Concepts & Formulas Explored\n",
    " - Basics of multiplying inputs to weights and adding biases $(x1​∗w1​)+(x2​∗w2​)+b$\n",
    " - Passing the subsequent sum to an activation function $y=f(x1​∗w1​+x2​∗w2​+b)$\n",
    " - The sigmoid function as an activation function\n",
    "   - Sigmoid function copresses $(−∞,+∞) to ( 0 , 1 )$\n",
    " - Expressing $(w*x)+b$ with numpy's dot pruduct\n",
    " - Making a network\n",
    "   - Two nodes in the network layer \n",
    "   - Two nodes in the hidden layer \n",
    "   - One node in the output layer\n"
   ]
  },
  {
   "cell_type": "markdown",
   "metadata": {},
   "source": [
    "### Our little Neuron 😳"
   ]
  },
  {
   "cell_type": "code",
   "execution_count": 2,
   "metadata": {},
   "outputs": [],
   "source": [
    "class Neuron:\n",
    "    def __init__(self, weights, bias):\n",
    "        self.weights = weights\n",
    "        self.bias = bias\n",
    "\n",
    "    def feedforward(self, inputs):\n",
    "        \"\"\"\n",
    "        Doing our little dot product: (w*x) + b \n",
    "        \"\"\"\n",
    "        total = np.dot(self.weights, inputs) + self.bias\n",
    "        return self.sigmoid(total)\n",
    "        # feedforward -> activation function\n",
    "    \n",
    "    def sigmoid(self,x):\n",
    "        \"\"\"\n",
    "        Our activation function: f(x) = 1 / (1 + e^(-x))\n",
    "        \"\"\"\n",
    "        return (1/(1+np.exp(-x)))"
   ]
  },
  {
   "cell_type": "markdown",
   "metadata": {},
   "source": [
    "> 🧪 Testing Neuron"
   ]
  },
  {
   "cell_type": "code",
   "execution_count": 3,
   "metadata": {},
   "outputs": [
    {
     "name": "stdout",
     "output_type": "stream",
     "text": [
      "0.9990889488055994\n"
     ]
    }
   ],
   "source": [
    "# Train\n",
    "weights = np.array([0, 1])  # w1 = 0, w2 = 1\n",
    "bias = 4                   # b = 4\n",
    "n = Neuron(weights, bias)\n",
    "\n",
    "# Input\n",
    "x = np.array([2, 3])\n",
    "\n",
    "print(n.feedforward(x))"
   ]
  },
  {
   "cell_type": "markdown",
   "metadata": {},
   "source": [
    "### Our Neural Network Class"
   ]
  },
  {
   "cell_type": "code",
   "execution_count": 4,
   "metadata": {},
   "outputs": [],
   "source": [
    "class NeuralNetwork:\n",
    "    \"\"\"\n",
    "    A neural network with:\n",
    "    - 2 inputs\n",
    "    - a hidden layer with 2 neurons(hidden_layer1, hidden_layer2)\n",
    "        - They have the same weights [0,1] and bias 0 \n",
    "    - an output layer with 1 neuron(output_layer)\n",
    "\n",
    "    \"\"\"\n",
    "\n",
    "    def __init__(self):\n",
    "        # adding more arguments here will allow us to make our own weights and biases\n",
    "        training_weights = np.array([0, 1])\n",
    "        training_bias = 0\n",
    "\n",
    "        self.hidden_layer1 = Neuron(training_weights, training_bias)\n",
    "        self.hidden_layer2 = Neuron(training_weights, training_bias)\n",
    "        self.output_layer = Neuron(training_weights, training_bias)\n",
    "\n",
    "    def feedforward(self, input):\n",
    "        # We record the two outputs from the hidden layer to feedforward to make one output layer node\n",
    "        from_hidden1 = self.hidden_layer1.feedforward(input)\n",
    "        from_hidden2 = self.hidden_layer2.feedforward(input)\n",
    "\n",
    "        from_outputlayer = self.output_layer.feedforward(\n",
    "            np.array([from_hidden1, from_hidden2]))\n",
    "\n",
    "        return from_outputlayer\n"
   ]
  },
  {
   "cell_type": "markdown",
   "metadata": {},
   "source": [
    "> 🧪 Testing our Neural Network"
   ]
  },
  {
   "cell_type": "code",
   "execution_count": 5,
   "metadata": {},
   "outputs": [
    {
     "name": "stdout",
     "output_type": "stream",
     "text": [
      "Output:  0.7216325609518421\n"
     ]
    }
   ],
   "source": [
    "my_network = NeuralNetwork()\n",
    "input = np.array([2, 3])\n",
    "print(\"Output: \", my_network.feedforward(input))"
   ]
  },
  {
   "cell_type": "markdown",
   "metadata": {},
   "source": [
    "## Using Datasets\n",
    "We will use a table given the columns weight and height to predict the sex of an individual.\n",
    "#### Concepts & Formulas Explored\n",
    " - Loss functions \n",
    "   - MSE is a popular loss function \n",
    "   - Basically the average of the squared error accrosss all instances\n",
    "   - Imagining a 2d graph, wherein we have multiple points on the graph, we can imagine the utilization of the loss function by getting the difference between the points' y-val and the point in the line with the same x-val\n",
    "     $$MSE= \\frac{1}{n} \\sum_{i=1}^n (ytrue​−ypred​)^2$$\n",
    "     - $n =$ samples\n",
    "     - $y =$ variable being predicted \n",
    "     - $ytrue =$ truth value of our y & $ypred =$ truth value of predicted\n",
    "     - We square the error "
   ]
  },
  {
   "cell_type": "code",
   "execution_count": null,
   "metadata": {},
   "outputs": [],
   "source": []
  }
 ],
 "metadata": {
  "kernelspec": {
   "display_name": "base",
   "language": "python",
   "name": "python3"
  },
  "language_info": {
   "codemirror_mode": {
    "name": "ipython",
    "version": 3
   },
   "file_extension": ".py",
   "mimetype": "text/x-python",
   "name": "python",
   "nbconvert_exporter": "python",
   "pygments_lexer": "ipython3",
   "version": "3.11.7"
  }
 },
 "nbformat": 4,
 "nbformat_minor": 2
}
